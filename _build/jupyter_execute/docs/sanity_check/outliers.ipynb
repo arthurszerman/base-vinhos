{
 "cells": [
  {
   "cell_type": "markdown",
   "id": "preliminary-object",
   "metadata": {},
   "source": [
    "(outliers)= \n",
    "\n",
    "# Outliers\n",
    "## Relatório geral\n",
    "\n",
    "<pre>\n",
    "+----------------------+----------------------+------------+\n",
    "|                      | Nome Feature         |   Outliers |\n",
    "+======================+======================+============+\n",
    "| residual sugar       | residual sugar       |        126 |\n",
    "+----------------------+----------------------+------------+\n",
    "| chlorides            | chlorides            |         87 |\n",
    "+----------------------+----------------------+------------+\n",
    "| sulphates            | sulphates            |         55 |\n",
    "+----------------------+----------------------+------------+\n",
    "| total sulfur dioxide | total sulfur dioxide |         45 |\n",
    "+----------------------+----------------------+------------+\n",
    "| fixed acidity        | fixed acidity        |         41 |\n",
    "+----------------------+----------------------+------------+\n",
    "| density              | density              |         35 |\n",
    "+----------------------+----------------------+------------+\n",
    "| free sulfur dioxide  | free sulfur dioxide  |         29 |\n",
    "+----------------------+----------------------+------------+\n",
    "| pH                   | pH                   |         28 |\n",
    "+----------------------+----------------------+------------+\n",
    "| volatile acidity     | volatile acidity     |         19 |\n",
    "+----------------------+----------------------+------------+\n",
    "| alcohol              | alcohol              |         13 |\n",
    "+----------------------+----------------------+------------+\n",
    "| citric acid          | citric acid          |          1 |\n",
    "+----------------------+----------------------+------------+\n",
    "</pre>"
   ]
  }
 ],
 "metadata": {
  "jupytext": {
   "text_representation": {
    "extension": ".md",
    "format_name": "myst"
   }
  },
  "kernelspec": {
   "display_name": "Python 3",
   "language": "python",
   "name": "python3"
  },
  "language_info": {
   "codemirror_mode": {
    "name": "ipython",
    "version": 3
   },
   "file_extension": ".py",
   "mimetype": "text/x-python",
   "name": "python",
   "nbconvert_exporter": "python",
   "pygments_lexer": "ipython3",
   "version": "3.8.5"
  },
  "source_map": [
   10
  ]
 },
 "nbformat": 4,
 "nbformat_minor": 5
}