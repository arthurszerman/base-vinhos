{
 "cells": [
  {
   "cell_type": "markdown",
   "id": "excellent-fancy",
   "metadata": {},
   "source": [
    "(numeric_variables)= \n",
    "\n",
    "# Variáveis Numéricas\n",
    "## Relatório geral\n",
    "\n",
    "<pre>\n",
    "+----+----------------------+-----------------------+-----------------------------+\n",
    "|    | Nome Feature         |   Qtde Missing Values |   Proportion Missing Values |\n",
    "+====+======================+=======================+=============================+\n",
    "|  0 | fixed acidity        |                     0 |                           0 |\n",
    "+----+----------------------+-----------------------+-----------------------------+\n",
    "|  1 | volatile acidity     |                     0 |                           0 |\n",
    "+----+----------------------+-----------------------+-----------------------------+\n",
    "|  2 | citric acid          |                     0 |                           0 |\n",
    "+----+----------------------+-----------------------+-----------------------------+\n",
    "|  3 | residual sugar       |                     0 |                           0 |\n",
    "+----+----------------------+-----------------------+-----------------------------+\n",
    "|  4 | chlorides            |                     0 |                           0 |\n",
    "+----+----------------------+-----------------------+-----------------------------+\n",
    "|  5 | free sulfur dioxide  |                     0 |                           0 |\n",
    "+----+----------------------+-----------------------+-----------------------------+\n",
    "|  6 | total sulfur dioxide |                     0 |                           0 |\n",
    "+----+----------------------+-----------------------+-----------------------------+\n",
    "|  7 | density              |                     0 |                           0 |\n",
    "+----+----------------------+-----------------------+-----------------------------+\n",
    "|  8 | pH                   |                     0 |                           0 |\n",
    "+----+----------------------+-----------------------+-----------------------------+\n",
    "|  9 | sulphates            |                     0 |                           0 |\n",
    "+----+----------------------+-----------------------+-----------------------------+\n",
    "| 10 | alcohol              |                     0 |                           0 |\n",
    "+----+----------------------+-----------------------+-----------------------------+\n",
    "</pre>\n",
    "\n",
    "\n",
    "\n",
    "\n",
    "```{toctree}\n",
    ":hidden:\n",
    ":titlesonly:\n",
    "\n",
    "\n",
    "numeric_vars/fixed acidity\n",
    "numeric_vars/volatile acidity\n",
    "numeric_vars/citric acid\n",
    "numeric_vars/residual sugar\n",
    "numeric_vars/chlorides\n",
    "numeric_vars/free sulfur dioxide\n",
    "numeric_vars/total sulfur dioxide\n",
    "numeric_vars/density\n",
    "numeric_vars/pH\n",
    "numeric_vars/sulphates\n",
    "numeric_vars/alcohol\n",
    "```"
   ]
  }
 ],
 "metadata": {
  "jupytext": {
   "text_representation": {
    "extension": ".md",
    "format_name": "myst"
   }
  },
  "kernelspec": {
   "display_name": "Python 3",
   "language": "python",
   "name": "python3"
  },
  "language_info": {
   "codemirror_mode": {
    "name": "ipython",
    "version": 3
   },
   "file_extension": ".py",
   "mimetype": "text/x-python",
   "name": "python",
   "nbconvert_exporter": "python",
   "pygments_lexer": "ipython3",
   "version": "3.8.5"
  },
  "source_map": [
   10
  ]
 },
 "nbformat": 4,
 "nbformat_minor": 5
}